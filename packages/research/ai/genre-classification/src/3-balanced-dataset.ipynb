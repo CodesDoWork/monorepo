{
 "cells": [
  {
   "cell_type": "markdown",
   "metadata": {},
   "source": [
    "# 3. Balanced Dataset\n",
    "\n",
    "This notebook aims to create a dataset with a maximum of 25 songs per genre in the train split. The\n",
    "other songs are added to the test split. You can see the results in the\n",
    "[results notebook](./6-results.ipynb)."
   ]
  },
  {
   "cell_type": "code",
   "execution_count": null,
   "metadata": {},
   "outputs": [],
   "source": [
    "!pip install evaluate transformers[torch] torchaudio wandb"
   ]
  },
  {
   "cell_type": "code",
   "execution_count": null,
   "metadata": {},
   "outputs": [],
   "source": [
    "import json\n",
    "from tqdm import tqdm\n",
    "from collections import Counter\n",
    "from datasets import DatasetDict, concatenate_datasets"
   ]
  },
  {
   "cell_type": "code",
   "execution_count": null,
   "metadata": {},
   "outputs": [],
   "source": [
    "with open(\"./dataset/genres.json\", \"r\", encoding=\"utf-8\") as f:\n",
    "    genres = json.load(f)\n",
    "genres"
   ]
  },
  {
   "cell_type": "code",
   "execution_count": null,
   "metadata": {},
   "outputs": [],
   "source": [
    "preprocessed_dataset = DatasetDict.load_from_disk(\"./dataset/music_lib\")\n",
    "preprocessed_dataset"
   ]
  },
  {
   "cell_type": "code",
   "execution_count": null,
   "metadata": {},
   "outputs": [],
   "source": [
    "max_songs_per_genre = 25\n",
    "\n",
    "counter = { genre: 0 for genre in genres }\n",
    "\n",
    "indices_to_train = []\n",
    "indices_to_test = []\n",
    "\n",
    "current_song = \"\"\n",
    "keep = True\n",
    "for idx, sample in tqdm(enumerate(preprocessed_dataset[\"train\"]), desc=\"Processing train samples\", total=len(preprocessed_dataset[\"train\"])):\n",
    "    if current_song != sample[\"paths\"]:\n",
    "        current_song = sample[\"paths\"]\n",
    "        genre = genres[sample[\"labels\"]]\n",
    "        if counter[genre] == 25:\n",
    "           keep = False\n",
    "        else:\n",
    "            keep = True\n",
    "            counter[genre] += 1\n",
    "    if keep:\n",
    "        indices_to_train.append(idx)\n",
    "    else:\n",
    "        indices_to_test.append(idx)\n",
    "    \n",
    "len(indices_to_train), len(indices_to_test)"
   ]
  },
  {
   "cell_type": "code",
   "execution_count": null,
   "metadata": {},
   "outputs": [],
   "source": [
    "{ genres[k]: v for k,v in sorted(Counter(preprocessed_dataset[\"validate\"][\"labels\"]).items(), key=lambda item: item[1])}"
   ]
  },
  {
   "cell_type": "code",
   "execution_count": null,
   "metadata": {},
   "outputs": [],
   "source": [
    "balanced_dataset = DatasetDict({\n",
    "    \"train\": preprocessed_dataset[\"train\"].select(indices_to_train),\n",
    "    \"validate\": preprocessed_dataset[\"validate\"],\n",
    "    \"test\": concatenate_datasets([preprocessed_dataset[\"test\"], preprocessed_dataset[\"train\"].select(indices_to_test)])\n",
    "})\n",
    "\n",
    "balanced_dataset"
   ]
  },
  {
   "cell_type": "code",
   "execution_count": null,
   "metadata": {},
   "outputs": [],
   "source": [
    "{ k: v for k,v in sorted(Counter(balanced_dataset[\"train\"][\"labels\"]).items(), key=lambda item: item[1])}"
   ]
  },
  {
   "cell_type": "code",
   "execution_count": null,
   "metadata": {},
   "outputs": [],
   "source": [
    "balanced_dataset.save_to_disk(\"./dataset/music_lib_balanced\")"
   ]
  }
 ],
 "metadata": {
  "kernelspec": {
   "display_name": "Python 3 (ipykernel)",
   "language": "python",
   "name": "python3"
  },
  "language_info": {
   "codemirror_mode": {
    "name": "ipython",
    "version": 3
   },
   "file_extension": ".py",
   "mimetype": "text/x-python",
   "name": "python",
   "nbconvert_exporter": "python",
   "pygments_lexer": "ipython3",
   "version": "3.12.7"
  }
 },
 "nbformat": 4,
 "nbformat_minor": 2
}
