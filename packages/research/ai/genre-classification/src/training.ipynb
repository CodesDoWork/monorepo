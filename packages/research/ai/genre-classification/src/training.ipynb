{
 "cells": [
  {
   "cell_type": "code",
   "execution_count": 1,
   "metadata": {},
   "outputs": [
    {
     "name": "stdout",
     "output_type": "stream",
     "text": [
      "Collecting evaluate\n",
      "  Downloading evaluate-0.4.3-py3-none-any.whl.metadata (9.2 kB)\n",
      "Requirement already satisfied: torchaudio in /opt/conda/lib/python3.12/site-packages (2.5.1+cu124)\n",
      "Collecting wandb\n",
      "  Downloading wandb-0.19.5-py3-none-manylinux_2_17_x86_64.manylinux2014_x86_64.whl.metadata (10 kB)\n",
      "Collecting transformers[torch]\n",
      "  Downloading transformers-4.48.2-py3-none-any.whl.metadata (44 kB)\n",
      "Collecting datasets>=2.0.0 (from evaluate)\n",
      "  Downloading datasets-3.2.0-py3-none-any.whl.metadata (20 kB)\n",
      "Requirement already satisfied: numpy>=1.17 in /opt/conda/lib/python3.12/site-packages (from evaluate) (2.0.2)\n",
      "Requirement already satisfied: dill in /opt/conda/lib/python3.12/site-packages (from evaluate) (0.3.9)\n",
      "Requirement already satisfied: pandas in /opt/conda/lib/python3.12/site-packages (from evaluate) (2.2.3)\n",
      "Requirement already satisfied: requests>=2.19.0 in /opt/conda/lib/python3.12/site-packages (from evaluate) (2.32.3)\n",
      "Requirement already satisfied: tqdm>=4.62.1 in /opt/conda/lib/python3.12/site-packages (from evaluate) (4.67.1)\n",
      "Collecting xxhash (from evaluate)\n",
      "  Downloading xxhash-3.5.0-cp312-cp312-manylinux_2_17_x86_64.manylinux2014_x86_64.whl.metadata (12 kB)\n",
      "Collecting multiprocess (from evaluate)\n",
      "  Downloading multiprocess-0.70.17-py312-none-any.whl.metadata (7.2 kB)\n",
      "Requirement already satisfied: fsspec>=2021.05.0 in /opt/conda/lib/python3.12/site-packages (from fsspec[http]>=2021.05.0->evaluate) (2024.10.0)\n",
      "Collecting huggingface-hub>=0.7.0 (from evaluate)\n",
      "  Downloading huggingface_hub-0.28.1-py3-none-any.whl.metadata (13 kB)\n",
      "Requirement already satisfied: packaging in /opt/conda/lib/python3.12/site-packages (from evaluate) (24.2)\n",
      "Requirement already satisfied: filelock in /opt/conda/lib/python3.12/site-packages (from transformers[torch]) (3.13.1)\n",
      "Requirement already satisfied: pyyaml>=5.1 in /opt/conda/lib/python3.12/site-packages (from transformers[torch]) (6.0.2)\n",
      "Collecting regex!=2019.12.17 (from transformers[torch])\n",
      "  Downloading regex-2024.11.6-cp312-cp312-manylinux_2_17_x86_64.manylinux2014_x86_64.whl.metadata (40 kB)\n",
      "Collecting tokenizers<0.22,>=0.21 (from transformers[torch])\n",
      "  Downloading tokenizers-0.21.0-cp39-abi3-manylinux_2_17_x86_64.manylinux2014_x86_64.whl.metadata (6.7 kB)\n",
      "Collecting safetensors>=0.4.1 (from transformers[torch])\n",
      "  Downloading safetensors-0.5.2-cp38-abi3-manylinux_2_17_x86_64.manylinux2014_x86_64.whl.metadata (3.8 kB)\n",
      "Requirement already satisfied: torch>=2.0 in /opt/conda/lib/python3.12/site-packages (from transformers[torch]) (2.5.1+cu124)\n",
      "Collecting accelerate>=0.26.0 (from transformers[torch])\n",
      "  Downloading accelerate-1.3.0-py3-none-any.whl.metadata (19 kB)\n",
      "Requirement already satisfied: typing-extensions>=4.8.0 in /opt/conda/lib/python3.12/site-packages (from torch>=2.0->transformers[torch]) (4.12.2)\n",
      "Requirement already satisfied: networkx in /opt/conda/lib/python3.12/site-packages (from torch>=2.0->transformers[torch]) (3.4.2)\n",
      "Requirement already satisfied: jinja2 in /opt/conda/lib/python3.12/site-packages (from torch>=2.0->transformers[torch]) (3.1.4)\n",
      "Requirement already satisfied: nvidia-cuda-nvrtc-cu12==12.4.127 in /opt/conda/lib/python3.12/site-packages (from torch>=2.0->transformers[torch]) (12.4.127)\n",
      "Requirement already satisfied: nvidia-cuda-runtime-cu12==12.4.127 in /opt/conda/lib/python3.12/site-packages (from torch>=2.0->transformers[torch]) (12.4.127)\n",
      "Requirement already satisfied: nvidia-cuda-cupti-cu12==12.4.127 in /opt/conda/lib/python3.12/site-packages (from torch>=2.0->transformers[torch]) (12.4.127)\n",
      "Requirement already satisfied: nvidia-cudnn-cu12==9.1.0.70 in /opt/conda/lib/python3.12/site-packages (from torch>=2.0->transformers[torch]) (9.1.0.70)\n",
      "Requirement already satisfied: nvidia-cublas-cu12==12.4.5.8 in /opt/conda/lib/python3.12/site-packages (from torch>=2.0->transformers[torch]) (12.4.5.8)\n",
      "Requirement already satisfied: nvidia-cufft-cu12==11.2.1.3 in /opt/conda/lib/python3.12/site-packages (from torch>=2.0->transformers[torch]) (11.2.1.3)\n",
      "Requirement already satisfied: nvidia-curand-cu12==10.3.5.147 in /opt/conda/lib/python3.12/site-packages (from torch>=2.0->transformers[torch]) (10.3.5.147)\n",
      "Requirement already satisfied: nvidia-cusolver-cu12==11.6.1.9 in /opt/conda/lib/python3.12/site-packages (from torch>=2.0->transformers[torch]) (11.6.1.9)\n",
      "Requirement already satisfied: nvidia-cusparse-cu12==12.3.1.170 in /opt/conda/lib/python3.12/site-packages (from torch>=2.0->transformers[torch]) (12.3.1.170)\n",
      "Requirement already satisfied: nvidia-nccl-cu12==2.21.5 in /opt/conda/lib/python3.12/site-packages (from torch>=2.0->transformers[torch]) (2.21.5)\n",
      "Requirement already satisfied: nvidia-nvtx-cu12==12.4.127 in /opt/conda/lib/python3.12/site-packages (from torch>=2.0->transformers[torch]) (12.4.127)\n",
      "Requirement already satisfied: nvidia-nvjitlink-cu12==12.4.127 in /opt/conda/lib/python3.12/site-packages (from torch>=2.0->transformers[torch]) (12.4.127)\n",
      "Requirement already satisfied: triton==3.1.0 in /opt/conda/lib/python3.12/site-packages (from torch>=2.0->transformers[torch]) (3.1.0)\n",
      "Requirement already satisfied: setuptools in /opt/conda/lib/python3.12/site-packages (from torch>=2.0->transformers[torch]) (75.6.0)\n",
      "Requirement already satisfied: sympy==1.13.1 in /opt/conda/lib/python3.12/site-packages (from torch>=2.0->transformers[torch]) (1.13.1)\n",
      "Requirement already satisfied: mpmath<1.4,>=1.1.0 in /opt/conda/lib/python3.12/site-packages (from sympy==1.13.1->torch>=2.0->transformers[torch]) (1.3.0)\n",
      "Requirement already satisfied: click!=8.0.0,>=7.1 in /opt/conda/lib/python3.12/site-packages (from wandb) (8.1.7)\n",
      "Collecting docker-pycreds>=0.4.0 (from wandb)\n",
      "  Downloading docker_pycreds-0.4.0-py2.py3-none-any.whl.metadata (1.8 kB)\n",
      "Requirement already satisfied: gitpython!=3.1.29,>=1.0.0 in /opt/conda/lib/python3.12/site-packages (from wandb) (3.1.43)\n",
      "Requirement already satisfied: platformdirs in /opt/conda/lib/python3.12/site-packages (from wandb) (4.3.6)\n",
      "Requirement already satisfied: protobuf!=4.21.0,!=5.28.0,<6,>=3.19.0 in /opt/conda/lib/python3.12/site-packages (from wandb) (5.28.2)\n",
      "Requirement already satisfied: psutil>=5.0.0 in /opt/conda/lib/python3.12/site-packages (from wandb) (6.1.0)\n",
      "Requirement already satisfied: pydantic<3,>=2.6 in /opt/conda/lib/python3.12/site-packages (from wandb) (2.10.2)\n",
      "Collecting sentry-sdk>=2.0.0 (from wandb)\n",
      "  Downloading sentry_sdk-2.20.0-py2.py3-none-any.whl.metadata (10 kB)\n",
      "Collecting setproctitle (from wandb)\n",
      "  Downloading setproctitle-1.3.4-cp312-cp312-manylinux_2_5_x86_64.manylinux1_x86_64.manylinux_2_17_x86_64.manylinux2014_x86_64.whl.metadata (10 kB)\n",
      "Requirement already satisfied: pyarrow>=15.0.0 in /opt/conda/lib/python3.12/site-packages (from datasets>=2.0.0->evaluate) (18.1.0)\n",
      "Collecting dill (from evaluate)\n",
      "  Downloading dill-0.3.8-py3-none-any.whl.metadata (10 kB)\n",
      "Collecting multiprocess (from evaluate)\n",
      "  Downloading multiprocess-0.70.16-py312-none-any.whl.metadata (7.2 kB)\n",
      "Collecting fsspec>=2021.05.0 (from fsspec[http]>=2021.05.0->evaluate)\n",
      "  Downloading fsspec-2024.9.0-py3-none-any.whl.metadata (11 kB)\n",
      "Collecting aiohttp (from datasets>=2.0.0->evaluate)\n",
      "  Downloading aiohttp-3.11.11-cp312-cp312-manylinux_2_17_x86_64.manylinux2014_x86_64.whl.metadata (7.7 kB)\n",
      "Requirement already satisfied: six>=1.4.0 in /opt/conda/lib/python3.12/site-packages (from docker-pycreds>=0.4.0->wandb) (1.16.0)\n",
      "Requirement already satisfied: gitdb<5,>=4.0.1 in /opt/conda/lib/python3.12/site-packages (from gitpython!=3.1.29,>=1.0.0->wandb) (4.0.11)\n",
      "Requirement already satisfied: annotated-types>=0.6.0 in /opt/conda/lib/python3.12/site-packages (from pydantic<3,>=2.6->wandb) (0.7.0)\n",
      "Requirement already satisfied: pydantic-core==2.27.1 in /opt/conda/lib/python3.12/site-packages (from pydantic<3,>=2.6->wandb) (2.27.1)\n",
      "Requirement already satisfied: charset_normalizer<4,>=2 in /opt/conda/lib/python3.12/site-packages (from requests>=2.19.0->evaluate) (3.4.0)\n",
      "Requirement already satisfied: idna<4,>=2.5 in /opt/conda/lib/python3.12/site-packages (from requests>=2.19.0->evaluate) (3.10)\n",
      "Requirement already satisfied: urllib3<3,>=1.21.1 in /opt/conda/lib/python3.12/site-packages (from requests>=2.19.0->evaluate) (2.2.3)\n",
      "Requirement already satisfied: certifi>=2017.4.17 in /opt/conda/lib/python3.12/site-packages (from requests>=2.19.0->evaluate) (2024.8.30)\n",
      "Requirement already satisfied: python-dateutil>=2.8.2 in /opt/conda/lib/python3.12/site-packages (from pandas->evaluate) (2.9.0.post0)\n",
      "Requirement already satisfied: pytz>=2020.1 in /opt/conda/lib/python3.12/site-packages (from pandas->evaluate) (2024.1)\n",
      "Requirement already satisfied: tzdata>=2022.7 in /opt/conda/lib/python3.12/site-packages (from pandas->evaluate) (2024.2)\n",
      "Collecting aiohappyeyeballs>=2.3.0 (from aiohttp->datasets>=2.0.0->evaluate)\n",
      "  Downloading aiohappyeyeballs-2.4.4-py3-none-any.whl.metadata (6.1 kB)\n",
      "Collecting aiosignal>=1.1.2 (from aiohttp->datasets>=2.0.0->evaluate)\n",
      "  Downloading aiosignal-1.3.2-py2.py3-none-any.whl.metadata (3.8 kB)\n",
      "Requirement already satisfied: attrs>=17.3.0 in /opt/conda/lib/python3.12/site-packages (from aiohttp->datasets>=2.0.0->evaluate) (24.2.0)\n",
      "Collecting frozenlist>=1.1.1 (from aiohttp->datasets>=2.0.0->evaluate)\n",
      "  Downloading frozenlist-1.5.0-cp312-cp312-manylinux_2_5_x86_64.manylinux1_x86_64.manylinux_2_17_x86_64.manylinux2014_x86_64.whl.metadata (13 kB)\n",
      "Collecting multidict<7.0,>=4.5 (from aiohttp->datasets>=2.0.0->evaluate)\n",
      "  Downloading multidict-6.1.0-cp312-cp312-manylinux_2_17_x86_64.manylinux2014_x86_64.whl.metadata (5.0 kB)\n",
      "Collecting propcache>=0.2.0 (from aiohttp->datasets>=2.0.0->evaluate)\n",
      "  Downloading propcache-0.2.1-cp312-cp312-manylinux_2_17_x86_64.manylinux2014_x86_64.whl.metadata (9.2 kB)\n",
      "Collecting yarl<2.0,>=1.17.0 (from aiohttp->datasets>=2.0.0->evaluate)\n",
      "  Downloading yarl-1.18.3-cp312-cp312-manylinux_2_17_x86_64.manylinux2014_x86_64.whl.metadata (69 kB)\n",
      "Requirement already satisfied: smmap<6,>=3.0.1 in /opt/conda/lib/python3.12/site-packages (from gitdb<5,>=4.0.1->gitpython!=3.1.29,>=1.0.0->wandb) (5.0.0)\n",
      "Requirement already satisfied: MarkupSafe>=2.0 in /opt/conda/lib/python3.12/site-packages (from jinja2->torch>=2.0->transformers[torch]) (3.0.2)\n",
      "Downloading evaluate-0.4.3-py3-none-any.whl (84 kB)\n",
      "Downloading wandb-0.19.5-py3-none-manylinux_2_17_x86_64.manylinux2014_x86_64.whl (20.3 MB)\n",
      "\u001b[2K   \u001b[90m━━━━━━━━━━━━━━━━━━━━━━━━━━━━━━━━━━━━━━━━\u001b[0m \u001b[32m20.3/20.3 MB\u001b[0m \u001b[31m165.7 MB/s\u001b[0m eta \u001b[36m0:00:00\u001b[0m\n",
      "\u001b[?25hDownloading accelerate-1.3.0-py3-none-any.whl (336 kB)\n",
      "Downloading datasets-3.2.0-py3-none-any.whl (480 kB)\n",
      "Downloading dill-0.3.8-py3-none-any.whl (116 kB)\n",
      "Downloading docker_pycreds-0.4.0-py2.py3-none-any.whl (9.0 kB)\n",
      "Downloading fsspec-2024.9.0-py3-none-any.whl (179 kB)\n",
      "Downloading huggingface_hub-0.28.1-py3-none-any.whl (464 kB)\n",
      "Downloading multiprocess-0.70.16-py312-none-any.whl (146 kB)\n",
      "Downloading regex-2024.11.6-cp312-cp312-manylinux_2_17_x86_64.manylinux2014_x86_64.whl (796 kB)\n",
      "\u001b[2K   \u001b[90m━━━━━━━━━━━━━━━━━━━━━━━━━━━━━━━━━━━━━━━\u001b[0m \u001b[32m796.9/796.9 kB\u001b[0m \u001b[31m119.6 MB/s\u001b[0m eta \u001b[36m0:00:00\u001b[0m\n",
      "\u001b[?25hDownloading safetensors-0.5.2-cp38-abi3-manylinux_2_17_x86_64.manylinux2014_x86_64.whl (461 kB)\n",
      "Downloading sentry_sdk-2.20.0-py2.py3-none-any.whl (322 kB)\n",
      "Downloading tokenizers-0.21.0-cp39-abi3-manylinux_2_17_x86_64.manylinux2014_x86_64.whl (3.0 MB)\n",
      "\u001b[2K   \u001b[90m━━━━━━━━━━━━━━━━━━━━━━━━━━━━━━━━━━━━━━━━\u001b[0m \u001b[32m3.0/3.0 MB\u001b[0m \u001b[31m227.3 MB/s\u001b[0m eta \u001b[36m0:00:00\u001b[0m\n",
      "\u001b[?25hDownloading setproctitle-1.3.4-cp312-cp312-manylinux_2_5_x86_64.manylinux1_x86_64.manylinux_2_17_x86_64.manylinux2014_x86_64.whl (31 kB)\n",
      "Downloading transformers-4.48.2-py3-none-any.whl (9.7 MB)\n",
      "\u001b[2K   \u001b[90m━━━━━━━━━━━━━━━━━━━━━━━━━━━━━━━━━━━━━━━━\u001b[0m \u001b[32m9.7/9.7 MB\u001b[0m \u001b[31m221.1 MB/s\u001b[0m eta \u001b[36m0:00:00\u001b[0m\n",
      "\u001b[?25hDownloading xxhash-3.5.0-cp312-cp312-manylinux_2_17_x86_64.manylinux2014_x86_64.whl (194 kB)\n",
      "Downloading aiohttp-3.11.11-cp312-cp312-manylinux_2_17_x86_64.manylinux2014_x86_64.whl (1.7 MB)\n",
      "\u001b[2K   \u001b[90m━━━━━━━━━━━━━━━━━━━━━━━━━━━━━━━━━━━━━━━━\u001b[0m \u001b[32m1.7/1.7 MB\u001b[0m \u001b[31m216.2 MB/s\u001b[0m eta \u001b[36m0:00:00\u001b[0m\n",
      "\u001b[?25hDownloading aiohappyeyeballs-2.4.4-py3-none-any.whl (14 kB)\n",
      "Downloading aiosignal-1.3.2-py2.py3-none-any.whl (7.6 kB)\n",
      "Downloading frozenlist-1.5.0-cp312-cp312-manylinux_2_5_x86_64.manylinux1_x86_64.manylinux_2_17_x86_64.manylinux2014_x86_64.whl (283 kB)\n",
      "Downloading multidict-6.1.0-cp312-cp312-manylinux_2_17_x86_64.manylinux2014_x86_64.whl (131 kB)\n",
      "Downloading propcache-0.2.1-cp312-cp312-manylinux_2_17_x86_64.manylinux2014_x86_64.whl (243 kB)\n",
      "Downloading yarl-1.18.3-cp312-cp312-manylinux_2_17_x86_64.manylinux2014_x86_64.whl (336 kB)\n",
      "Installing collected packages: xxhash, setproctitle, sentry-sdk, safetensors, regex, propcache, multidict, fsspec, frozenlist, docker-pycreds, dill, aiohappyeyeballs, yarl, multiprocess, huggingface-hub, aiosignal, wandb, tokenizers, aiohttp, transformers, accelerate, datasets, evaluate\n",
      "  Attempting uninstall: fsspec\n",
      "    Found existing installation: fsspec 2024.10.0\n",
      "    Uninstalling fsspec-2024.10.0:\n",
      "      Successfully uninstalled fsspec-2024.10.0\n",
      "  Attempting uninstall: dill\n",
      "    Found existing installation: dill 0.3.9\n",
      "    Uninstalling dill-0.3.9:\n",
      "      Successfully uninstalled dill-0.3.9\n",
      "Successfully installed accelerate-1.3.0 aiohappyeyeballs-2.4.4 aiohttp-3.11.11 aiosignal-1.3.2 datasets-3.2.0 dill-0.3.8 docker-pycreds-0.4.0 evaluate-0.4.3 frozenlist-1.5.0 fsspec-2024.9.0 huggingface-hub-0.28.1 multidict-6.1.0 multiprocess-0.70.16 propcache-0.2.1 regex-2024.11.6 safetensors-0.5.2 sentry-sdk-2.20.0 setproctitle-1.3.4 tokenizers-0.21.0 transformers-4.48.2 wandb-0.19.5 xxhash-3.5.0 yarl-1.18.3\n"
     ]
    }
   ],
   "source": [
    "!pip install evaluate transformers[torch] torchaudio wandb"
   ]
  },
  {
   "cell_type": "code",
   "execution_count": 45,
   "metadata": {},
   "outputs": [],
   "source": [
    "import json\n",
    "import torch\n",
    "import wandb\n",
    "import random\n",
    "import evaluate\n",
    "import numpy as np\n",
    "import pandas as pd\n",
    "import matplotlib.pyplot as plt\n",
    "\n",
    "from seaborn import heatmap\n",
    "from collections import Counter \n",
    "from datasets import DatasetDict\n",
    "from torch import tensor, Tensor\n",
    "from torch.nn import Module, Linear, LayerNorm\n",
    "from torch.nn.functional import softmax\n",
    "from torchaudio import transforms\n",
    "from torch.nn import CrossEntropyLoss\n",
    "from sklearn.metrics import confusion_matrix\n",
    "from torch.nn.functional import interpolate, pad\n",
    "from transformers.trainer_utils import EvalPrediction\n",
    "from sklearn.utils.class_weight import compute_class_weight\n",
    "from transformers import ASTFeatureExtractor, ASTConfig, ASTForAudioClassification, TrainingArguments, Trainer"
   ]
  },
  {
   "cell_type": "code",
   "execution_count": 3,
   "metadata": {},
   "outputs": [
    {
     "name": "stdout",
     "output_type": "stream",
     "text": [
      "env: WANDB_PROJECT=genre_classification\n"
     ]
    }
   ],
   "source": [
    "%env WANDB_PROJECT=genre_classification"
   ]
  },
  {
   "cell_type": "code",
   "execution_count": null,
   "metadata": {},
   "outputs": [
    {
     "name": "stderr",
     "output_type": "stream",
     "text": [
      "\u001b[34m\u001b[1mwandb\u001b[0m: \u001b[33mWARNING\u001b[0m If you're specifying your api key in code, ensure this code is not shared publicly.\n",
      "\u001b[34m\u001b[1mwandb\u001b[0m: \u001b[33mWARNING\u001b[0m Consider setting the WANDB_API_KEY environment variable, or running `wandb login` from the command line.\n",
      "\u001b[34m\u001b[1mwandb\u001b[0m: Appending key for wandb.justinkonratt.com to your netrc file: /home/jovyan/.netrc\n",
      "\u001b[34m\u001b[1mwandb\u001b[0m: Currently logged in as: \u001b[33mcodesdowork\u001b[0m to \u001b[32mhttps://wandb.justinkonratt.com\u001b[0m. Use \u001b[1m`wandb login --relogin`\u001b[0m to force relogin\n"
     ]
    },
    {
     "data": {
      "text/plain": [
       "True"
      ]
     },
     "execution_count": 4,
     "metadata": {},
     "output_type": "execute_result"
    }
   ],
   "source": [
    "wandb.login(key=\"...\", host=\"https://wandb.justinkonratt.com\")"
   ]
  },
  {
   "cell_type": "code",
   "execution_count": 5,
   "metadata": {},
   "outputs": [
    {
     "data": {
      "text/plain": [
       "['Bad',\n",
       " 'Bassy',\n",
       " 'Big Room',\n",
       " 'Bounce',\n",
       " 'Chill',\n",
       " 'Chill Beat',\n",
       " 'Chillstep',\n",
       " 'Classic',\n",
       " 'Country',\n",
       " 'Dance Pop',\n",
       " 'Deep House',\n",
       " 'Drum and Bass',\n",
       " 'Dubstep',\n",
       " 'EDM',\n",
       " 'Electro',\n",
       " 'Electro House',\n",
       " 'Emotional',\n",
       " 'Epic',\n",
       " 'Folk',\n",
       " 'Frenchcore',\n",
       " 'Glitch Hop',\n",
       " 'God',\n",
       " 'Groove',\n",
       " 'Hands Up',\n",
       " 'Hardcore',\n",
       " 'Hardstyle',\n",
       " 'Harp',\n",
       " 'Hip-Hop',\n",
       " 'Historic',\n",
       " 'Latino',\n",
       " 'Lo-Fi',\n",
       " 'Lounge',\n",
       " 'Malle',\n",
       " 'Minimal',\n",
       " 'Motivation',\n",
       " 'Oldschool Techno',\n",
       " 'Orchestra Pop',\n",
       " 'Orchestral Electro',\n",
       " 'Psy',\n",
       " 'Rap',\n",
       " 'Rock',\n",
       " 'Slow',\n",
       " 'Techno',\n",
       " 'Tekk',\n",
       " 'Weihnachten']"
      ]
     },
     "execution_count": 5,
     "metadata": {},
     "output_type": "execute_result"
    }
   ],
   "source": [
    "with open(\"./dataset/genres.json\", \"r\", encoding=\"utf-8\") as f:\n",
    "    genres = json.load(f)\n",
    "genres"
   ]
  },
  {
   "cell_type": "code",
   "execution_count": 6,
   "metadata": {},
   "outputs": [
    {
     "data": {
      "application/vnd.jupyter.widget-view+json": {
       "model_id": "bd6764755e064edc8032b4dfa53393f1",
       "version_major": 2,
       "version_minor": 0
      },
      "text/plain": [
       "Loading dataset from disk:   0%|          | 0/21 [00:00<?, ?it/s]"
      ]
     },
     "metadata": {},
     "output_type": "display_data"
    },
    {
     "data": {
      "text/plain": [
       "DatasetDict({\n",
       "    train: Dataset({\n",
       "        features: ['input_values', 'labels', 'paths'],\n",
       "        num_rows: 19312\n",
       "    })\n",
       "    validate: Dataset({\n",
       "        features: ['input_values', 'labels', 'paths'],\n",
       "        num_rows: 2760\n",
       "    })\n",
       "    test: Dataset({\n",
       "        features: ['input_values', 'labels', 'paths'],\n",
       "        num_rows: 5519\n",
       "    })\n",
       "})"
      ]
     },
     "execution_count": 6,
     "metadata": {},
     "output_type": "execute_result"
    }
   ],
   "source": [
    "preprocessed_dataset = DatasetDict.load_from_disk(\"./dataset/music_lib\")\n",
    "preprocessed_dataset"
   ]
  },
  {
   "cell_type": "code",
   "execution_count": 7,
   "metadata": {},
   "outputs": [
    {
     "data": {
      "application/vnd.jupyter.widget-view+json": {
       "model_id": "aa83193e40074f609e52e0bea5c67d5b",
       "version_major": 2,
       "version_minor": 0
      },
      "text/plain": [
       "preprocessor_config.json:   0%|          | 0.00/297 [00:00<?, ?B/s]"
      ]
     },
     "metadata": {},
     "output_type": "display_data"
    }
   ],
   "source": [
    "pretrained_model = \"MIT/ast-finetuned-audioset-10-10-0.4593\"\n",
    "feature_extractor = ASTFeatureExtractor.from_pretrained(pretrained_model)\n",
    "\n",
    "model_input_name = feature_extractor.model_input_names[0]\n",
    "labels_name = \"labels\"\n",
    "paths_name = \"paths\""
   ]
  },
  {
   "cell_type": "code",
   "execution_count": 8,
   "metadata": {},
   "outputs": [
    {
     "data": {
      "application/vnd.jupyter.widget-view+json": {
       "model_id": "77b44be2d14c4ccfb279ec7678e8105d",
       "version_major": 2,
       "version_minor": 0
      },
      "text/plain": [
       "config.json:   0%|          | 0.00/26.8k [00:00<?, ?B/s]"
      ]
     },
     "metadata": {},
     "output_type": "display_data"
    },
    {
     "data": {
      "application/vnd.jupyter.widget-view+json": {
       "model_id": "d3031a35150548bd81c26734217d11f7",
       "version_major": 2,
       "version_minor": 0
      },
      "text/plain": [
       "model.safetensors:   0%|          | 0.00/346M [00:00<?, ?B/s]"
      ]
     },
     "metadata": {},
     "output_type": "display_data"
    },
    {
     "name": "stderr",
     "output_type": "stream",
     "text": [
      "Some weights of ASTForAudioClassification were not initialized from the model checkpoint at MIT/ast-finetuned-audioset-10-10-0.4593 and are newly initialized because the shapes did not match:\n",
      "- classifier.dense.bias: found shape torch.Size([527]) in the checkpoint and torch.Size([45]) in the model instantiated\n",
      "- classifier.dense.weight: found shape torch.Size([527, 768]) in the checkpoint and torch.Size([45, 768]) in the model instantiated\n",
      "You should probably TRAIN this model on a down-stream task to be able to use it for predictions and inference.\n"
     ]
    }
   ],
   "source": [
    "config = ASTConfig.from_pretrained(pretrained_model)\n",
    "config.num_labels = len(genres)\n",
    "config.label2id = { genre: idx for idx, genre in enumerate(genres) }\n",
    "config.id2label = { idx: genre for idx, genre in enumerate(genres) }\n",
    "config.hidden_dropout_prob = 0.00\n",
    "config.attention_probs_dropout_prob = 0.00\n",
    "\n",
    "model = ASTForAudioClassification.from_pretrained(pretrained_model, config=config, ignore_mismatched_sizes=True)"
   ]
  },
  {
   "cell_type": "code",
   "execution_count": 27,
   "metadata": {},
   "outputs": [
    {
     "data": {
      "text/plain": [
       "ASTMLPHead(\n",
       "  (layernorm): LayerNorm((768,), eps=1e-12, elementwise_affine=True)\n",
       "  (dense): Linear(in_features=768, out_features=45, bias=True)\n",
       ")"
      ]
     },
     "execution_count": 27,
     "metadata": {},
     "output_type": "execute_result"
    }
   ],
   "source": [
    "model.classifier"
   ]
  },
  {
   "cell_type": "code",
   "execution_count": 59,
   "metadata": {},
   "outputs": [],
   "source": [
    "class TemporalAttention(Module):\n",
    "    def __init__(self):\n",
    "        super(TemporalAttention, self).__init__()\n",
    "        self.attention_weights = Linear(config.hidden_size, 1)\n",
    "\n",
    "    def forward(self, cls_tokens):\n",
    "        scores = self.attention_weights(cls_tokens)\n",
    "        attention_weights = softmax(scores, dim=1)\n",
    "        return torch.sum(attention_weights * cls_tokens, dim=0)\n",
    "\n",
    "class AggregateSnipptesClassifier(Module):\n",
    "    def __init__(self):\n",
    "        super(AggregateSnipptesClassifier, self).__init__()\n",
    "        self.layernorm = LayerNorm(normalized_shape=(config.hidden_size,), eps=1e-12, elementwise_affine=True)\n",
    "        self.attention = TemporalAttention()\n",
    "        self.classifier = Linear(in_features=config.hidden_size, out_features=config.num_labels, bias=True)\n",
    "\n",
    "    def forward(self, cls_tokens):\n",
    "        normalized_cls_tokens = self.layernorm(cls_tokens)\n",
    "        song_cls_token = self.attention(normalized_cls_tokens)\n",
    "        return self.classifier(song_cls_token)\n",
    "\n",
    "class ASTSnippetModel(Module):\n",
    "    def __init__(self):\n",
    "        super(ASTSnippetModel, self).__init__()\n",
    "        self.model = ASTForAudioClassification.from_pretrained(pretrained_model, config=config, ignore_mismatched_sizes=True)\n",
    "        self.classifier = AggregateSnipptesClassifier()\n",
    "    \n",
    "model.classifier = AggregateSnipptesClassifier()"
   ]
  },
  {
   "cell_type": "code",
   "execution_count": 60,
   "metadata": {},
   "outputs": [
    {
     "data": {
      "text/plain": [
       "torch.Size([45])"
      ]
     },
     "execution_count": 60,
     "metadata": {},
     "output_type": "execute_result"
    }
   ],
   "source": [
    "model_input = tensor(preprocessed_dataset[\"train\"][0:6][\"input_values\"])\n",
    "output = model(model_input).logits\n",
    "output.shape"
   ]
  },
  {
   "cell_type": "code",
   "execution_count": 7,
   "metadata": {},
   "outputs": [],
   "source": [
    "def calc_aggregated_accuracy(predictions: Tensor, labels: Tensor):\n",
    "    v_score = 0\n",
    "    w_score = 0\n",
    "    a_score = 0\n",
    "    m_score = 0\n",
    "\n",
    "    songs_per_genre = [0 for _ in range(len(genres))]\n",
    "    correctly_predicted_per_genre = [0 for _ in range(len(genres))]\n",
    "\n",
    "    eval_subset = None\n",
    "    for subset in preprocessed_dataset.values():\n",
    "        if len(subset) == predictions.shape[0]:\n",
    "            eval_subset = subset\n",
    "\n",
    "    true_labels = []\n",
    "    predicted_labels = []\n",
    "\n",
    "    entries_per_song = list(Counter(eval_subset[paths_name]).values())\n",
    "    song_count = len(entries_per_song)\n",
    "    start_idx = 0\n",
    "    for song_entries in entries_per_song:\n",
    "        label = labels[start_idx]\n",
    "        true_labels.append(label)\n",
    "        songs_per_genre[label] += 1\n",
    "        song_logits = predictions[start_idx:start_idx + song_entries,:]\n",
    "        start_idx += song_entries\n",
    "\n",
    "        # voting\n",
    "        v_pred = song_logits.argmax(dim=1).mode().values.item()\n",
    "        if v_pred == label:\n",
    "            v_score += 1\n",
    "\n",
    "        # weighting\n",
    "        confidence = song_logits.softmax(dim=1).max(dim=1).values\n",
    "        weighted_logits = (song_logits.T * confidence).T\n",
    "        w_pred = weighted_logits.mean(dim=0).argmax().item()\n",
    "        if w_pred == label:\n",
    "            w_score += 1\n",
    "\n",
    "        # average\n",
    "        a_pred = song_logits.mean(dim=0).argmax().item()\n",
    "        predicted_labels.append(a_pred)\n",
    "        if a_pred == label:\n",
    "            a_score += 1\n",
    "            correctly_predicted_per_genre[label] += 1\n",
    "\n",
    "        # max\n",
    "        m_pred = song_logits.max(dim=0).values.argmax().item()\n",
    "        if m_pred == label:\n",
    "            m_score += 1\n",
    "\n",
    "    cm = confusion_matrix(true_labels, predicted_labels)\n",
    "    cm_normalized_row = cm.astype('float') / cm.sum(axis=1)[:, np.newaxis]\n",
    "\n",
    "    plt.figure(figsize=(8, 6))\n",
    "    heatmap(cm_normalized_row, xticklabels=genres, yticklabels=genres)\n",
    "    plt.xlabel('Predicted')\n",
    "    plt.ylabel('True')\n",
    "    plt.title('Confusion Matrix')\n",
    "    plt.show()\n",
    "\n",
    "    threshold = 0.1\n",
    "    confusions = []\n",
    "    for i in range(cm_normalized_row.shape[0]):\n",
    "        for j in range(cm_normalized_row.shape[1]):\n",
    "            if i != j and cm_normalized_row[i, j] > threshold:\n",
    "                confusions.append((genres[i], genres[j], cm_normalized_row[i, j]))\n",
    "    confusion_df = pd.DataFrame(confusions, columns=['True Class', 'Predicted Class', 'Confusion Value'])\n",
    "    confusion_df = confusion_df.sort_values(by='Confusion Value', ascending=False)\n",
    "    print(confusion_df)\n",
    "\n",
    "    return {\n",
    "        \"voting_score\": v_score / song_count,\n",
    "        \"weighting_score\": w_score / song_count,\n",
    "        \"mean_pooling_score\": a_score / song_count,\n",
    "        \"max_pooling_score\": m_score / song_count,\n",
    "        **{ f\"{genre}_a_accuracy\": correctly_predicted_per_genre[idx] / songs_per_genre[idx] for idx, genre in enumerate(genres) }\n",
    "    }\n",
    "\n",
    "accuracy = evaluate.load(\"accuracy\")\n",
    "recall = evaluate.load(\"recall\")\n",
    "precision = evaluate.load(\"precision\")\n",
    "f1 = evaluate.load(\"f1\")\n",
    "\n",
    "AVERAGE = \"macro\" if config.num_labels > 2 else \"binary\"\n",
    "\n",
    "def compute_metrics(eval_pred: EvalPrediction):\n",
    "    logits = eval_pred.predictions\n",
    "    labels = eval_pred.label_ids\n",
    "    predictions = np.argmax(logits, axis=1)\n",
    "    metrics = accuracy.compute(predictions=predictions, references=labels)\n",
    "    metrics.update(precision.compute(predictions=predictions, references=labels, average=AVERAGE))\n",
    "    metrics.update(recall.compute(predictions=predictions, references=labels, average=AVERAGE))\n",
    "    metrics.update(f1.compute(predictions=predictions, references=labels, average=AVERAGE))\n",
    "    metrics.update(calc_aggregated_accuracy(tensor(logits), tensor(labels)))\n",
    "    return metrics"
   ]
  },
  {
   "cell_type": "code",
   "execution_count": 8,
   "metadata": {},
   "outputs": [],
   "source": [
    "def visualize_spectrum(specs, size=(10,6), cols=1, rows=1):\n",
    "    plt.figure(figsize=size)\n",
    "    for idx, spec in enumerate(specs):\n",
    "        plt.subplot(rows, cols, idx + 1)\n",
    "        plt.imshow(spec.T, aspect='auto', origin='lower', cmap='viridis')\n",
    "        plt.colorbar(label=\"Amplitude\")\n",
    "        plt.xlabel(\"Time Frames\")\n",
    "        plt.ylabel(\"Frequency Bins\")\n",
    "        plt.tight_layout()\n",
    "    plt.tight_layout()\n",
    "    plt.show()"
   ]
  },
  {
   "cell_type": "code",
   "execution_count": 9,
   "metadata": {},
   "outputs": [],
   "source": [
    "class SpecAugmentPipeline:\n",
    "    def __init__(\n",
    "            self,\n",
    "            p=0.5,\n",
    "            effects_p=0.5,\n",
    "            time_mask_param=30,\n",
    "            freq_mask_param=20,\n",
    "            noise_level=0.05,\n",
    "            stretch_range=(0.97, 1.03),\n",
    "            shift_range=3,\n",
    "            amplitude_range=(0.8, 1.2)\n",
    "    ):\n",
    "        self.p = p\n",
    "        self.effects_p = effects_p\n",
    "        self.time_mask = transforms.TimeMasking(time_mask_param)\n",
    "        self.freq_mask = transforms.FrequencyMasking(freq_mask_param)\n",
    "        self.noise_level = noise_level\n",
    "        self.stretch_range = stretch_range\n",
    "        self.shift_range = shift_range\n",
    "        self.amplitude_range = amplitude_range\n",
    "\n",
    "    def add_noise(self, spec):\n",
    "        return spec + torch.randn_like(spec) * self.noise_level\n",
    "    \n",
    "    def time_stretch(self, spec):\n",
    "        spec = spec.unsqueeze(0)\n",
    "        factor = random.uniform(*self.stretch_range)\n",
    "        new_steps = int(spec.size(-1) * factor)\n",
    "        new_spec = interpolate(spec, (spec.size(-2), new_steps), mode=\"bilinear\", align_corners=False).squeeze(0)\n",
    "        return new_spec.resize_(spec.size(-3), spec.size(-2), spec.size(-1)) if factor >= 1 else pad(new_spec, (0, spec.size(-1) - new_steps))\n",
    "\n",
    "    def frequency_shift(self, spec):\n",
    "        shift = random.randint(-self.shift_range, self.shift_range)\n",
    "        return torch.roll(spec, shifts=shift, dims=-2)\n",
    "\n",
    "    def amplitude_scaling(self, spec):\n",
    "        return spec * random.uniform(*self.amplitude_range)\n",
    "\n",
    "    def __call__(self, spec):\n",
    "        if random.random() >= self.p:\n",
    "            return spec\n",
    "        \n",
    "        spec = spec.transpose(-1, -2)\n",
    "        if random.random() < self.effects_p:\n",
    "            spec = self.time_mask(spec)\n",
    "        \n",
    "        if random.random() < self.effects_p:\n",
    "            spec = self.freq_mask(spec)\n",
    "\n",
    "        if random.random() < self.effects_p:\n",
    "            spec = self.add_noise(spec)\n",
    "\n",
    "        # bad loss behavior\n",
    "        # if random.random() < self.effects_p:\n",
    "        #     spec = self.time_stretch(spec)\n",
    "\n",
    "        if random.random() < self.effects_p:\n",
    "            spec = self.frequency_shift(spec)\n",
    "\n",
    "        if random.random() < self.effects_p:\n",
    "            spec = self.amplitude_scaling(spec)\n",
    "\n",
    "        return spec.transpose(-1, -2)"
   ]
  },
  {
   "cell_type": "code",
   "execution_count": 10,
   "metadata": {},
   "outputs": [],
   "source": [
    "aug_pipe = SpecAugmentPipeline(p=1)\n",
    "def augmentation(sample):\n",
    "    if model_input_name in sample:\n",
    "        sample[model_input_name] = aug_pipe(tensor(sample[model_input_name]))\n",
    "    return sample\n",
    "\n",
    "preprocessed_dataset[\"train\"].set_transform(augmentation)"
   ]
  },
  {
   "cell_type": "code",
   "execution_count": 49,
   "metadata": {},
   "outputs": [
    {
     "data": {
      "text/plain": [
       "tensor([ 0.3374,  4.2074,  1.7881,  0.6623, 14.3052,  4.7684,  3.2512,  1.2548,\n",
       "         1.1353,  4.7684,  2.7510,  2.1675,  2.8610,  1.9868,  0.5502,  0.9170,\n",
       "         4.4704,  8.9407, 17.8815,  1.5549,  3.2512,  5.1090,  1.0074,  0.0744,\n",
       "         0.6562,  0.4615, 17.8815,  3.4060,  5.9605,  2.5545,  8.9407,  0.9843,\n",
       "         1.1353,  2.6491,  0.8941,  0.2630,  4.4704,  3.4060,  1.3495,  1.2548,\n",
       "         0.5863,  5.9605,  2.6491,  3.5763,  4.7684], device='cuda:0')"
      ]
     },
     "execution_count": 49,
     "metadata": {},
     "output_type": "execute_result"
    }
   ],
   "source": [
    "labels = preprocessed_dataset[\"train\"][labels_name]\n",
    "class_weights = compute_class_weight(class_weight=\"balanced\", classes=np.unique(labels), y=labels)\n",
    "class_weights = torch.tensor(class_weights, dtype=torch.float, device=\"cuda\")\n",
    "class_weights"
   ]
  },
  {
   "cell_type": "code",
   "execution_count": 50,
   "metadata": {},
   "outputs": [],
   "source": [
    "def weighted_loss_func(outputs, labels, num_items_in_batch):\n",
    "    logits = outputs.get(\"logits\")\n",
    "    loss_fct = CrossEntropyLoss(weight=class_weights.to(logits.device))\n",
    "    return loss_fct(logits, labels)"
   ]
  },
  {
   "cell_type": "code",
   "execution_count": 11,
   "metadata": {},
   "outputs": [],
   "source": [
    "batch_size = 64\n",
    "devices = 1\n",
    "warmup_epochs = 0.5\n",
    "\n",
    "training_args = TrainingArguments(\n",
    "    output_dir=\"./runs/ast_classifier\",\n",
    "    report_to=\"wandb\",\n",
    "    run_name=\"new_ds_2_lower_lr\",\n",
    "    learning_rate=5e-5,\n",
    "    weight_decay=0.00,\n",
    "    warmup_steps=round(len(preprocessed_dataset[\"train\"]) / batch_size * warmup_epochs),\n",
    "    push_to_hub=False,\n",
    "    num_train_epochs=5,\n",
    "    per_device_train_batch_size=batch_size // devices,\n",
    "    per_device_eval_batch_size=batch_size // devices,\n",
    "    eval_strategy=\"epoch\",\n",
    "    save_strategy=\"epoch\",\n",
    "    load_best_model_at_end=True,\n",
    "    metric_for_best_model=\"mean_pooling_score\",\n",
    "    greater_is_better=True,\n",
    "    logging_strategy=\"steps\",\n",
    "    logging_steps=1,\n",
    "    fp16=True,\n",
    "    save_total_limit=3\n",
    ")"
   ]
  },
  {
   "cell_type": "code",
   "execution_count": 12,
   "metadata": {},
   "outputs": [],
   "source": [
    "trainer = Trainer(\n",
    "    model=model,\n",
    "    args=training_args,\n",
    "    train_dataset=preprocessed_dataset[\"train\"],\n",
    "    eval_dataset=preprocessed_dataset[\"validate\"],\n",
    "    compute_metrics=compute_metrics,\n",
    "    # compute_loss_func=weighted_loss_func\n",
    ")"
   ]
  },
  {
   "cell_type": "code",
   "execution_count": null,
   "metadata": {},
   "outputs": [],
   "source": [
    "trainer.train()"
   ]
  },
  {
   "cell_type": "code",
   "execution_count": 28,
   "metadata": {},
   "outputs": [
    {
     "name": "stdout",
     "output_type": "stream",
     "text": [
      "./runs/ast_classifier/checkpoint-2416\n"
     ]
    },
    {
     "data": {
      "text/html": [
       "\n",
       "    <div>\n",
       "      \n",
       "      <progress value='87' max='87' style='width:300px; height:20px; vertical-align: middle;'></progress>\n",
       "      [87/87 02:45]\n",
       "    </div>\n",
       "    "
      ],
      "text/plain": [
       "<IPython.core.display.HTML object>"
      ]
     },
     "metadata": {},
     "output_type": "display_data"
    },
    {
     "name": "stderr",
     "output_type": "stream",
     "text": [
      "/opt/conda/lib/python3.12/site-packages/sklearn/metrics/_classification.py:1531: UndefinedMetricWarning: Precision is ill-defined and being set to 0.0 in labels with no predicted samples. Use `zero_division` parameter to control this behavior.\n",
      "  _warn_prf(average, modifier, f\"{metric.capitalize()} is\", len(result))\n"
     ]
    },
    {
     "data": {
      "image/png": "[encoded data removed]",
      "text/plain": [
       "<Figure size 800x600 with 2 Axes>"
      ]
     },
     "metadata": {},
     "output_type": "display_data"
    },
    {
     "name": "stdout",
     "output_type": "stream",
     "text": [
      "            True Class     Predicted Class  Confusion Value\n",
      "29                Harp              Lounge         1.000000\n",
      "0                Bassy             Minimal         0.800000\n",
      "34               Lo-Fi           Chillstep         0.500000\n",
      "23                Epic  Orchestral Electro         0.500000\n",
      "28                 God             Country         0.500000\n",
      "5           Chill Beat            Hands Up         0.400000\n",
      "15       Drum and Bass             Electro         0.333333\n",
      "31             Hip-Hop                 Rap         0.333333\n",
      "25          Glitch Hop             Electro         0.333333\n",
      "30             Hip-Hop              Latino         0.333333\n",
      "32            Historic              Lounge         0.333333\n",
      "41                Slow                 God         0.333333\n",
      "40                Slow             Country         0.333333\n",
      "12          Deep House              Bounce         0.285714\n",
      "17             Dubstep  Orchestral Electro         0.285714\n",
      "16             Dubstep             Electro         0.285714\n",
      "20                 EDM            Hands Up         0.272727\n",
      "21                 EDM           Hardstyle         0.272727\n",
      "44              Techno              Groove         0.250000\n",
      "47         Weihnachten            Hands Up         0.250000\n",
      "46         Weihnachten       Electro House         0.250000\n",
      "48         Weihnachten                 Psy         0.250000\n",
      "14       Drum and Bass             Dubstep         0.222222\n",
      "4           Chill Beat          Deep House         0.200000\n",
      "6           Chill Beat    Oldschool Techno         0.200000\n",
      "3           Chill Beat             Country         0.200000\n",
      "9            Dance Pop       Electro House         0.200000\n",
      "10           Dance Pop                Rock         0.200000\n",
      "11           Dance Pop                Slow         0.200000\n",
      "8            Dance Pop             Country         0.200000\n",
      "19                 EDM       Electro House         0.181818\n",
      "1             Big Room                 Psy         0.181818\n",
      "7            Chillstep  Orchestral Electro         0.166667\n",
      "24          Glitch Hop              Bounce         0.166667\n",
      "37  Orchestral Electro           Chillstep         0.166667\n",
      "38  Orchestral Electro            Hands Up         0.166667\n",
      "27          Glitch Hop            Hands Up         0.166667\n",
      "26          Glitch Hop       Electro House         0.166667\n",
      "13          Deep House              Latino         0.142857\n",
      "36             Minimal              Techno         0.142857\n",
      "18             Dubstep                 Rap         0.142857\n",
      "35             Minimal              Bounce         0.142857\n",
      "22       Electro House            Hands Up         0.130435\n",
      "2               Bounce            Hands Up         0.129032\n",
      "33              Latino       Electro House         0.125000\n",
      "43              Techno              Bounce         0.125000\n",
      "42              Techno            Big Room         0.125000\n",
      "45              Techno                 Psy         0.125000\n",
      "39                 Rap             Hip-Hop         0.117647\n",
      "{'test_loss': 0.9564480185508728, 'test_accuracy': 0.7401703207102736, 'test_precision': 0.6104058768225115, 'test_recall': 0.5054735914315044, 'test_f1': 0.5241947434209852, 'test_voting_score': 0.8293478260869566, 'test_weighting_score': 0.8521739130434782, 'test_mean_pooling_score': 0.8554347826086957, 'test_max_pooling_score': 0.8271739130434783, 'test_Bad_a_accuracy': 1.0, 'test_Bassy_a_accuracy': 0.2, 'test_Big Room_a_accuracy': 0.5454545454545454, 'test_Bounce_a_accuracy': 0.7741935483870968, 'test_Chill_a_accuracy': 1.0, 'test_Chill Beat_a_accuracy': 0.0, 'test_Chillstep_a_accuracy': 0.8333333333333334, 'test_Classic_a_accuracy': 0.8823529411764706, 'test_Country_a_accuracy': 1.0, 'test_Dance Pop_a_accuracy': 0.2, 'test_Deep House_a_accuracy': 0.5714285714285714, 'test_Drum and Bass_a_accuracy': 0.4444444444444444, 'test_Dubstep_a_accuracy': 0.2857142857142857, 'test_EDM_a_accuracy': 0.09090909090909091, 'test_Electro_a_accuracy': 0.8108108108108109, 'test_Electro House_a_accuracy': 0.4782608695652174, 'test_Emotional_a_accuracy': 1.0, 'test_Epic_a_accuracy': 0.5, 'test_Folk_a_accuracy': 1.0, 'test_Frenchcore_a_accuracy': 0.9230769230769231, 'test_Glitch Hop_a_accuracy': 0.16666666666666666, 'test_God_a_accuracy': 0.5, 'test_Groove_a_accuracy': 0.9, 'test_Hands Up_a_accuracy': 0.9854545454545455, 'test_Hardcore_a_accuracy': 0.7741935483870968, 'test_Hardstyle_a_accuracy': 0.8666666666666667, 'test_Harp_a_accuracy': 0.0, 'test_Hip-Hop_a_accuracy': 0.3333333333333333, 'test_Historic_a_accuracy': 0.6666666666666666, 'test_Latino_a_accuracy': 0.875, 'test_Lo-Fi_a_accuracy': 0.5, 'test_Lounge_a_accuracy': 1.0, 'test_Malle_a_accuracy': 0.9444444444444444, 'test_Minimal_a_accuracy': 0.7142857142857143, 'test_Motivation_a_accuracy': 1.0, 'test_Oldschool Techno_a_accuracy': 0.974025974025974, 'test_Orchestra Pop_a_accuracy': 1.0, 'test_Orchestral Electro_a_accuracy': 0.6666666666666666, 'test_Psy_a_accuracy': 0.7333333333333333, 'test_Rap_a_accuracy': 0.8823529411764706, 'test_Rock_a_accuracy': 0.8857142857142857, 'test_Slow_a_accuracy': 0.3333333333333333, 'test_Techno_a_accuracy': 0.375, 'test_Tekk_a_accuracy': 1.0, 'test_Weihnachten_a_accuracy': 0.25, 'test_runtime': 170.8815, 'test_samples_per_second': 32.297, 'test_steps_per_second': 0.509, 'epoch': 10.0}\n"
     ]
    },
    {
     "data": {
      "text/html": [],
      "text/plain": [
       "<IPython.core.display.HTML object>"
      ]
     },
     "metadata": {},
     "output_type": "display_data"
    },
    {
     "data": {
      "text/html": [
       "<br>    <style><br>        .wandb-row {<br>            display: flex;<br>            flex-direction: row;<br>            flex-wrap: wrap;<br>            justify-content: flex-start;<br>            width: 100%;<br>        }<br>        .wandb-col {<br>            display: flex;<br>            flex-direction: column;<br>            flex-basis: 100%;<br>            flex: 1;<br>            padding: 10px;<br>        }<br>    </style><br><div class=\"wandb-row\"><div class=\"wandb-col\"><h3>Run history:</h3><br/><table class=\"wandb\"><tr><td>eval/Bad_a_accuracy</td><td>▁▁▁▁▁▁▁▁▁▁</td></tr><tr><td>eval/Bassy_a_accuracy</td><td>▁▁████████</td></tr><tr><td>eval/Big Room_a_accuracy</td><td>▁▃▆▆▃▃▃▅█▅</td></tr><tr><td>eval/Bounce_a_accuracy</td><td>▁█▅▅▆██▇▆▆</td></tr><tr><td>eval/Chill Beat_a_accuracy</td><td>▁▁▁▁▁▁▁▁▁▁</td></tr><tr><td>eval/Chill_a_accuracy</td><td>▁▁▁▁▁▁▁▁▁▁</td></tr><tr><td>eval/Chillstep_a_accuracy</td><td>▁▁▁▁▁▁▁▁▁▁</td></tr><tr><td>eval/Classic_a_accuracy</td><td>▁▁████████</td></tr><tr><td>eval/Country_a_accuracy</td><td>████▁█████</td></tr><tr><td>eval/Dance Pop_a_accuracy</td><td>▁▁▁▁▁▁▁▁▁▁</td></tr><tr><td>eval/Deep House_a_accuracy</td><td>▁▁████████</td></tr><tr><td>eval/Drum and Bass_a_accuracy</td><td>▁▁▁▁██▁▁██</td></tr><tr><td>eval/Dubstep_a_accuracy</td><td>▁▁▅█████▅█</td></tr><tr><td>eval/EDM_a_accuracy</td><td>▁▁▁▁▁▁▁▁▁▁</td></tr><tr><td>eval/Electro House_a_accuracy</td><td>▄▄█▁▆▆▆▄▆▆</td></tr><tr><td>eval/Electro_a_accuracy</td><td>▄▁▅▇▅▇▇█▅▅</td></tr><tr><td>eval/Emotional_a_accuracy</td><td>▁█████████</td></tr><tr><td>eval/Epic_a_accuracy</td><td>▁█████████</td></tr><tr><td>eval/Folk_a_accuracy</td><td>▁▁▁▁▁█████</td></tr><tr><td>eval/Frenchcore_a_accuracy</td><td>▁▁████████</td></tr><tr><td>eval/Glitch Hop_a_accuracy</td><td>▁▁█▁███▅██</td></tr><tr><td>eval/God_a_accuracy</td><td>▁▁▁▅██████</td></tr><tr><td>eval/Groove_a_accuracy</td><td>▁▇████████</td></tr><tr><td>eval/Hands Up_a_accuracy</td><td>▁▁████████</td></tr><tr><td>eval/Hardcore_a_accuracy</td><td>▁▁▁▁▁▁▁▁▁▁</td></tr><tr><td>eval/Hardstyle_a_accuracy</td><td>█▃▆▃▆▆▁▃▃▆</td></tr><tr><td>eval/Harp_a_accuracy</td><td>▁▁████████</td></tr><tr><td>eval/Hip-Hop_a_accuracy</td><td>▁▁████████</td></tr><tr><td>eval/Historic_a_accuracy</td><td>▁▁▁▁▁▁▁▁▁▁</td></tr><tr><td>eval/Latino_a_accuracy</td><td>▁██▁▁█████</td></tr><tr><td>eval/Lo-Fi_a_accuracy</td><td>▁▁▁▁▁▁▁▁▁▁</td></tr><tr><td>eval/Lounge_a_accuracy</td><td>▁▄█▁▄▁▄█▄▄</td></tr><tr><td>eval/Malle_a_accuracy</td><td>▁▁▁▁▁▁▁▁▁▁</td></tr><tr><td>eval/Minimal_a_accuracy</td><td>▁█████████</td></tr><tr><td>eval/Motivation_a_accuracy</td><td>▁▁▁▁▁▁▁▁▁▁</td></tr><tr><td>eval/Oldschool Techno_a_accuracy</td><td>▃▃█▁██████</td></tr><tr><td>eval/Orchestra Pop_a_accuracy</td><td>▁▅▅▅▅█████</td></tr><tr><td>eval/Orchestral Electro_a_accuracy</td><td>▁▁▁▁▁█▁███</td></tr><tr><td>eval/Psy_a_accuracy</td><td>▆▆▆█▁▃▅▆▆▆</td></tr><tr><td>eval/Rap_a_accuracy</td><td>▁█▁█▁▁▁▁▁▁</td></tr><tr><td>eval/Rock_a_accuracy</td><td>▁██▆█▃████</td></tr><tr><td>eval/Slow_a_accuracy</td><td>▁▁▁▁▁█▁▁▁▁</td></tr><tr><td>eval/Techno_a_accuracy</td><td>▁▅▁█▅▅▅▅▅▅</td></tr><tr><td>eval/Tekk_a_accuracy</td><td>▁▆▆█▆█████</td></tr><tr><td>eval/Weihnachten_a_accuracy</td><td>▁▁▁▁▁▁▁▁▁▁</td></tr><tr><td>eval/accuracy</td><td>▁▅▇▇██████</td></tr><tr><td>eval/f1</td><td>▁▅▇▇▇█████</td></tr><tr><td>eval/loss</td><td>█▄▂▂▁▁▁▁▁▁</td></tr><tr><td>eval/max_pooling_score</td><td>▁▄▇▆▇▇▇▇██</td></tr><tr><td>eval/mean_pooling_score</td><td>▁▄▇▆▇█████</td></tr><tr><td>eval/precision</td><td>▁▅▆▆▇███▇▇</td></tr><tr><td>eval/recall</td><td>▁▅▇▇▇█████</td></tr><tr><td>eval/runtime</td><td>▁▂▂▄▅▃▇█▇▆</td></tr><tr><td>eval/samples_per_second</td><td>█▇▇▅▄▆▂▁▂▃</td></tr><tr><td>eval/steps_per_second</td><td>█▇▇▅▅▅▂▁▂▃</td></tr><tr><td>eval/voting_score</td><td>▁▄▇▆██████</td></tr><tr><td>eval/weighting_score</td><td>▁▄▇▇▇█▇███</td></tr><tr><td>test/Bad_a_accuracy</td><td>▁</td></tr><tr><td>test/Bassy_a_accuracy</td><td>▁</td></tr><tr><td>test/Big Room_a_accuracy</td><td>▁</td></tr><tr><td>test/Bounce_a_accuracy</td><td>▁</td></tr><tr><td>test/Chill Beat_a_accuracy</td><td>▁</td></tr><tr><td>test/Chill_a_accuracy</td><td>▁</td></tr><tr><td>test/Chillstep_a_accuracy</td><td>▁</td></tr><tr><td>test/Classic_a_accuracy</td><td>▁</td></tr><tr><td>test/Country_a_accuracy</td><td>▁</td></tr><tr><td>test/Dance Pop_a_accuracy</td><td>▁</td></tr><tr><td>test/Deep House_a_accuracy</td><td>▁</td></tr><tr><td>test/Drum and Bass_a_accuracy</td><td>▁</td></tr><tr><td>test/Dubstep_a_accuracy</td><td>▁</td></tr><tr><td>test/EDM_a_accuracy</td><td>▁</td></tr><tr><td>test/Electro House_a_accuracy</td><td>▁</td></tr><tr><td>test/Electro_a_accuracy</td><td>▁</td></tr><tr><td>test/Emotional_a_accuracy</td><td>▁</td></tr><tr><td>test/Epic_a_accuracy</td><td>▁</td></tr><tr><td>test/Folk_a_accuracy</td><td>▁</td></tr><tr><td>test/Frenchcore_a_accuracy</td><td>▁</td></tr><tr><td>test/Glitch Hop_a_accuracy</td><td>▁</td></tr><tr><td>test/God_a_accuracy</td><td>▁</td></tr><tr><td>test/Groove_a_accuracy</td><td>▁</td></tr><tr><td>test/Hands Up_a_accuracy</td><td>▁</td></tr><tr><td>test/Hardcore_a_accuracy</td><td>▁</td></tr><tr><td>test/Hardstyle_a_accuracy</td><td>▁</td></tr><tr><td>test/Harp_a_accuracy</td><td>▁</td></tr><tr><td>test/Hip-Hop_a_accuracy</td><td>▁</td></tr><tr><td>test/Historic_a_accuracy</td><td>▁</td></tr><tr><td>test/Latino_a_accuracy</td><td>▁</td></tr><tr><td>test/Lo-Fi_a_accuracy</td><td>▁</td></tr><tr><td>test/Lounge_a_accuracy</td><td>▁</td></tr><tr><td>test/Malle_a_accuracy</td><td>▁</td></tr><tr><td>test/Minimal_a_accuracy</td><td>▁</td></tr><tr><td>test/Motivation_a_accuracy</td><td>▁</td></tr><tr><td>test/Oldschool Techno_a_accuracy</td><td>▁</td></tr><tr><td>test/Orchestra Pop_a_accuracy</td><td>▁</td></tr><tr><td>test/Orchestral Electro_a_accuracy</td><td>▁</td></tr><tr><td>test/Psy_a_accuracy</td><td>▁</td></tr><tr><td>test/Rap_a_accuracy</td><td>▁</td></tr><tr><td>test/Rock_a_accuracy</td><td>▁</td></tr><tr><td>test/Slow_a_accuracy</td><td>▁</td></tr><tr><td>test/Techno_a_accuracy</td><td>▁</td></tr><tr><td>test/Tekk_a_accuracy</td><td>▁</td></tr><tr><td>test/Weihnachten_a_accuracy</td><td>▁</td></tr><tr><td>test/accuracy</td><td>▁</td></tr><tr><td>test/f1</td><td>▁</td></tr><tr><td>test/loss</td><td>▁</td></tr><tr><td>test/max_pooling_score</td><td>▁</td></tr><tr><td>test/mean_pooling_score</td><td>▁</td></tr><tr><td>test/precision</td><td>▁</td></tr><tr><td>test/recall</td><td>▁</td></tr><tr><td>test/runtime</td><td>▁</td></tr><tr><td>test/samples_per_second</td><td>▁</td></tr><tr><td>test/steps_per_second</td><td>▁</td></tr><tr><td>test/voting_score</td><td>▁</td></tr><tr><td>test/weighting_score</td><td>▁</td></tr><tr><td>train/epoch</td><td>▁▁▁▂▂▂▂▂▂▂▃▃▃▃▃▃▃▃▄▄▄▄▄▄▄▅▆▆▆▆▆▆▇▇▇█████</td></tr><tr><td>train/global_step</td><td>▁▁▁▁▂▂▂▂▂▂▂▃▃▃▃▃▄▄▄▄▄▄▄▄▄▅▅▅▅▅▆▆▆▆▇▇▇▇██</td></tr><tr><td>train/grad_norm</td><td>▇▂▃▄▅▄▅▄▃▅▅▃█▂▄█▄▅▃▄▄▃▂▂▆▆▄▂▂▆▃▂▄▁▄▅▂▅▂▁</td></tr><tr><td>train/learning_rate</td><td>▁▃█▇▇▇▇▇▇▇▆▆▆▆▆▆▅▅▅▅▄▄▄▄▄▄▄▄▄▄▃▃▃▃▃▂▂▂▁▁</td></tr><tr><td>train/loss</td><td>█▆▅▃▄▃▂▃▂▃▃▂▂▂▂▃▂▂▃▂▂▂▂▂▂▂▂▂▁▁▁▁▁▁▁▁▁▁▁▁</td></tr></table><br/></div><div class=\"wandb-col\"><h3>Run summary:</h3><br/><table class=\"wandb\"><tr><td>eval/Bad_a_accuracy</td><td>0.96667</td></tr><tr><td>eval/Bassy_a_accuracy</td><td>1</td></tr><tr><td>eval/Big Room_a_accuracy</td><td>0.33333</td></tr><tr><td>eval/Bounce_a_accuracy</td><td>0.625</td></tr><tr><td>eval/Chill Beat_a_accuracy</td><td>0.5</td></tr><tr><td>eval/Chill_a_accuracy</td><td>0</td></tr><tr><td>eval/Chillstep_a_accuracy</td><td>1</td></tr><tr><td>eval/Classic_a_accuracy</td><td>0.875</td></tr><tr><td>eval/Country_a_accuracy</td><td>0.88889</td></tr><tr><td>eval/Dance Pop_a_accuracy</td><td>0</td></tr><tr><td>eval/Deep House_a_accuracy</td><td>1</td></tr><tr><td>eval/Drum and Bass_a_accuracy</td><td>0.4</td></tr><tr><td>eval/Dubstep_a_accuracy</td><td>1</td></tr><tr><td>eval/EDM_a_accuracy</td><td>0</td></tr><tr><td>eval/Electro House_a_accuracy</td><td>0.72727</td></tr><tr><td>eval/Electro_a_accuracy</td><td>0.78947</td></tr><tr><td>eval/Emotional_a_accuracy</td><td>1</td></tr><tr><td>eval/Epic_a_accuracy</td><td>1</td></tr><tr><td>eval/Folk_a_accuracy</td><td>1</td></tr><tr><td>eval/Frenchcore_a_accuracy</td><td>0.66667</td></tr><tr><td>eval/Glitch Hop_a_accuracy</td><td>0.66667</td></tr><tr><td>eval/God_a_accuracy</td><td>1</td></tr><tr><td>eval/Groove_a_accuracy</td><td>1</td></tr><tr><td>eval/Hands Up_a_accuracy</td><td>0.9927</td></tr><tr><td>eval/Hardcore_a_accuracy</td><td>0.9375</td></tr><tr><td>eval/Hardstyle_a_accuracy</td><td>0.81818</td></tr><tr><td>eval/Harp_a_accuracy</td><td>1</td></tr><tr><td>eval/Hip-Hop_a_accuracy</td><td>0.66667</td></tr><tr><td>eval/Historic_a_accuracy</td><td>0.5</td></tr><tr><td>eval/Latino_a_accuracy</td><td>0.75</td></tr><tr><td>eval/Lo-Fi_a_accuracy</td><td>0</td></tr><tr><td>eval/Lounge_a_accuracy</td><td>0.81818</td></tr><tr><td>eval/Malle_a_accuracy</td><td>0.88889</td></tr><tr><td>eval/Minimal_a_accuracy</td><td>1</td></tr><tr><td>eval/Motivation_a_accuracy</td><td>1</td></tr><tr><td>eval/Oldschool Techno_a_accuracy</td><td>0.87179</td></tr><tr><td>eval/Orchestra Pop_a_accuracy</td><td>1</td></tr><tr><td>eval/Orchestral Electro_a_accuracy</td><td>0.33333</td></tr><tr><td>eval/Psy_a_accuracy</td><td>0.875</td></tr><tr><td>eval/Rap_a_accuracy</td><td>0.625</td></tr><tr><td>eval/Rock_a_accuracy</td><td>1</td></tr><tr><td>eval/Slow_a_accuracy</td><td>0</td></tr><tr><td>eval/Techno_a_accuracy</td><td>0.25</td></tr><tr><td>eval/Tekk_a_accuracy</td><td>1</td></tr><tr><td>eval/Weihnachten_a_accuracy</td><td>0</td></tr><tr><td>eval/accuracy</td><td>0.74565</td></tr><tr><td>eval/f1</td><td>0.55</td></tr><tr><td>eval/loss</td><td>0.9612</td></tr><tr><td>eval/max_pooling_score</td><td>0.83043</td></tr><tr><td>eval/mean_pooling_score</td><td>0.85652</td></tr><tr><td>eval/precision</td><td>0.57601</td></tr><tr><td>eval/recall</td><td>0.53839</td></tr><tr><td>eval/runtime</td><td>85.9852</td></tr><tr><td>eval/samples_per_second</td><td>32.099</td></tr><tr><td>eval/steps_per_second</td><td>0.512</td></tr><tr><td>eval/voting_score</td><td>0.83478</td></tr><tr><td>eval/weighting_score</td><td>0.84783</td></tr><tr><td>test/Bad_a_accuracy</td><td>1</td></tr><tr><td>test/Bassy_a_accuracy</td><td>0.2</td></tr><tr><td>test/Big Room_a_accuracy</td><td>0.54545</td></tr><tr><td>test/Bounce_a_accuracy</td><td>0.77419</td></tr><tr><td>test/Chill Beat_a_accuracy</td><td>0</td></tr><tr><td>test/Chill_a_accuracy</td><td>1</td></tr><tr><td>test/Chillstep_a_accuracy</td><td>0.83333</td></tr><tr><td>test/Classic_a_accuracy</td><td>0.88235</td></tr><tr><td>test/Country_a_accuracy</td><td>1</td></tr><tr><td>test/Dance Pop_a_accuracy</td><td>0.2</td></tr><tr><td>test/Deep House_a_accuracy</td><td>0.57143</td></tr><tr><td>test/Drum and Bass_a_accuracy</td><td>0.44444</td></tr><tr><td>test/Dubstep_a_accuracy</td><td>0.28571</td></tr><tr><td>test/EDM_a_accuracy</td><td>0.09091</td></tr><tr><td>test/Electro House_a_accuracy</td><td>0.47826</td></tr><tr><td>test/Electro_a_accuracy</td><td>0.81081</td></tr><tr><td>test/Emotional_a_accuracy</td><td>1</td></tr><tr><td>test/Epic_a_accuracy</td><td>0.5</td></tr><tr><td>test/Folk_a_accuracy</td><td>1</td></tr><tr><td>test/Frenchcore_a_accuracy</td><td>0.92308</td></tr><tr><td>test/Glitch Hop_a_accuracy</td><td>0.16667</td></tr><tr><td>test/God_a_accuracy</td><td>0.5</td></tr><tr><td>test/Groove_a_accuracy</td><td>0.9</td></tr><tr><td>test/Hands Up_a_accuracy</td><td>0.98545</td></tr><tr><td>test/Hardcore_a_accuracy</td><td>0.77419</td></tr><tr><td>test/Hardstyle_a_accuracy</td><td>0.86667</td></tr><tr><td>test/Harp_a_accuracy</td><td>0</td></tr><tr><td>test/Hip-Hop_a_accuracy</td><td>0.33333</td></tr><tr><td>test/Historic_a_accuracy</td><td>0.66667</td></tr><tr><td>test/Latino_a_accuracy</td><td>0.875</td></tr><tr><td>test/Lo-Fi_a_accuracy</td><td>0.5</td></tr><tr><td>test/Lounge_a_accuracy</td><td>1</td></tr><tr><td>test/Malle_a_accuracy</td><td>0.94444</td></tr><tr><td>test/Minimal_a_accuracy</td><td>0.71429</td></tr><tr><td>test/Motivation_a_accuracy</td><td>1</td></tr><tr><td>test/Oldschool Techno_a_accuracy</td><td>0.97403</td></tr><tr><td>test/Orchestra Pop_a_accuracy</td><td>1</td></tr><tr><td>test/Orchestral Electro_a_accuracy</td><td>0.66667</td></tr><tr><td>test/Psy_a_accuracy</td><td>0.73333</td></tr><tr><td>test/Rap_a_accuracy</td><td>0.88235</td></tr><tr><td>test/Rock_a_accuracy</td><td>0.88571</td></tr><tr><td>test/Slow_a_accuracy</td><td>0.33333</td></tr><tr><td>test/Techno_a_accuracy</td><td>0.375</td></tr><tr><td>test/Tekk_a_accuracy</td><td>1</td></tr><tr><td>test/Weihnachten_a_accuracy</td><td>0.25</td></tr><tr><td>test/accuracy</td><td>0.74017</td></tr><tr><td>test/f1</td><td>0.52419</td></tr><tr><td>test/loss</td><td>0.95645</td></tr><tr><td>test/max_pooling_score</td><td>0.82717</td></tr><tr><td>test/mean_pooling_score</td><td>0.85543</td></tr><tr><td>test/precision</td><td>0.61041</td></tr><tr><td>test/recall</td><td>0.50547</td></tr><tr><td>test/runtime</td><td>170.8815</td></tr><tr><td>test/samples_per_second</td><td>32.297</td></tr><tr><td>test/steps_per_second</td><td>0.509</td></tr><tr><td>test/voting_score</td><td>0.82935</td></tr><tr><td>test/weighting_score</td><td>0.85217</td></tr><tr><td>total_flos</td><td>1.3095244115686195e+19</td></tr><tr><td>train/epoch</td><td>10</td></tr><tr><td>train/global_step</td><td>3020</td></tr><tr><td>train/grad_norm</td><td>8.39517</td></tr><tr><td>train/learning_rate</td><td>0.0</td></tr><tr><td>train/loss</td><td>0.1374</td></tr><tr><td>train_loss</td><td>0.68101</td></tr><tr><td>train_runtime</td><td>8264.2435</td></tr><tr><td>train_samples_per_second</td><td>23.368</td></tr><tr><td>train_steps_per_second</td><td>0.365</td></tr></table><br/></div></div>"
      ],
      "text/plain": [
       "<IPython.core.display.HTML object>"
      ]
     },
     "metadata": {},
     "output_type": "display_data"
    },
    {
     "data": {
      "text/html": [
       " View run <strong style=\"color:#cdcd00\">new_ds_2_lower_lr</strong> at: <a href='https://wandb.justinkonratt.com/codesdowork/genre_classification/runs/hsh4dnwy' target=\"_blank\">https://wandb.justinkonratt.com/codesdowork/genre_classification/runs/hsh4dnwy</a><br> View project at: <a href='https://wandb.justinkonratt.com/codesdowork/genre_classification' target=\"_blank\">https://wandb.justinkonratt.com/codesdowork/genre_classification</a><br>Synced 5 W&B file(s), 0 media file(s), 0 artifact file(s) and 0 other file(s)"
      ],
      "text/plain": [
       "<IPython.core.display.HTML object>"
      ]
     },
     "metadata": {},
     "output_type": "display_data"
    },
    {
     "data": {
      "text/html": [
       "Find logs at: <code>./wandb/run-20250201_100508-hsh4dnwy/logs</code>"
      ],
      "text/plain": [
       "<IPython.core.display.HTML object>"
      ]
     },
     "metadata": {},
     "output_type": "display_data"
    }
   ],
   "source": [
    "print(trainer.state.best_model_checkpoint)\n",
    "results = trainer.evaluate(preprocessed_dataset[\"test\"], metric_key_prefix=\"test\")\n",
    "print(results)\n",
    "\n",
    "wandb.finish()"
   ]
  }
 ],
 "metadata": {
  "kernelspec": {
   "display_name": "Python 3 (ipykernel)",
   "language": "python",
   "name": "python3"
  },
  "language_info": {
   "codemirror_mode": {
    "name": "ipython",
    "version": 3
   },
   "file_extension": ".py",
   "mimetype": "text/x-python",
   "name": "python",
   "nbconvert_exporter": "python",
   "pygments_lexer": "ipython3",
   "version": "3.12.7"
  }
 },
 "nbformat": 4,
 "nbformat_minor": 2
}
